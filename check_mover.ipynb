{
  "nbformat": 4,
  "nbformat_minor": 0,
  "metadata": {
    "colab": {
      "provenance": []
    },
    "kernelspec": {
      "name": "python3",
      "display_name": "Python 3"
    },
    "language_info": {
      "name": "python"
    }
  },
  "cells": [
    {
      "cell_type": "code",
      "execution_count": null,
      "metadata": {
        "id": "sxQTYwiu23IF"
      },
      "outputs": [],
      "source": [
        "import pandas as pd\n",
        "import numpy as np\n",
        "import psutil\n",
        "import os, sys\n",
        "from pathlib import Path\n",
        "import pyarrow.dataset as ds"
      ]
    },
    {
      "cell_type": "code",
      "source": [
        "path0 = '/mnt/sda1/RA5/data'\n",
        "path1 = '/mnt/sda1/RA5/intermediate/siyoung/Choi_Jaedo'"
      ],
      "metadata": {
        "id": "3_2Jb1t93BZN"
      },
      "execution_count": null,
      "outputs": []
    },
    {
      "cell_type": "code",
      "source": [
        "parquet_file = os.path.join(path0, \"key_work_pair.parquet\")\n",
        "\n",
        "dataset = ds.dataset(parquet_file, format=\"parquet\")\n",
        "\n",
        "total_rows = dataset.count_rows(filter=ds.field(\"COM_ADM\").is_valid())\n",
        "quarter = total_rows // 4\n",
        "\n",
        "print(\"총 행수:\", total_rows)\n",
        "\n",
        "def load_quarter(k):\n",
        "    \"\"\"\n",
        "    k번째(0,1,2,3) 사분면 데이터 로드\n",
        "    \"\"\"\n",
        "    start = k * quarter\n",
        "    end   = (k+1) * quarter if k < 3 else total_rows  # 마지막은 나머지 포함\n",
        "    batches = dataset.to_batches(batch_size=100_000,\n",
        "                                 filter=ds.field(\"COM_ADM\").is_valid())\n",
        "    rows = []\n",
        "    count = 0\n",
        "    for batch in batches:\n",
        "        df = batch.to_pandas()\n",
        "        n = len(df)\n",
        "        # 원하는 구간 안쪽 데이터만 취하기\n",
        "        if count + n <= start:\n",
        "            count += n\n",
        "            continue\n",
        "        if count >= end:\n",
        "            break\n",
        "        s = max(0, start - count)\n",
        "        e = min(n, end - count)\n",
        "        rows.append(df.iloc[s:e])\n",
        "        count += n\n",
        "    return pd.concat(rows, ignore_index=True)\n",
        "\n",
        "\n",
        "# 총 행수: 1925071172"
      ],
      "metadata": {
        "id": "DTOlQ5hE3Bbm"
      },
      "execution_count": null,
      "outputs": []
    },
    {
      "cell_type": "code",
      "source": [
        "public_list = pd.DataFrame(\n",
        "    {'Inst Name'   : ['건강보험심사평가원', '국민건강보험공단', '우정정보관리원', '농림축산검역본부',\n",
        "                        '한국전력기술', '한국수력원자력', '한국해양과학기술원', '국민연금공단',\n",
        "                        '한국식품연구원', '한국교육개발원', '한국교육과정평가원'],\n",
        "    'N of employee' : [2439, 1301, 816, 630, 2879, 1100, 616, 1218, 505, 440, 401,],\n",
        "\n",
        "    'prev_COM_ADM' : [11710620, 11440610, 11215847, 41171560, 41463570,\n",
        "                        11680580, 41271525, 11710710, 41135657, 11650651, 11140520],\n",
        "\n",
        "    'after_COM_ADM' : [51130675, 51130675, 46170620, 47150640, 47150640, 47130315,\n",
        "                        26200650, 52113670, 52710330, 43750253, 43750253],\n",
        "\n",
        "    'actual_move_month' : ['2015/12', '2015/12', '2017/07', '2015/12', '2015/08',\n",
        "                            '2016/03', '2017/12', '2015/06', '2017/09', '2016/11', '2018/01']\n",
        "                        }\n",
        ")"
      ],
      "metadata": {
        "id": "_WGAWOmL3BeE"
      },
      "execution_count": null,
      "outputs": []
    },
    {
      "cell_type": "code",
      "source": [],
      "metadata": {
        "id": "-8hxudP53BgF"
      },
      "execution_count": null,
      "outputs": []
    },
    {
      "cell_type": "markdown",
      "source": [
        "1st quarter"
      ],
      "metadata": {
        "id": "org01cc03TFI"
      }
    },
    {
      "cell_type": "code",
      "source": [
        "part1 = load_quarter(0)\n",
        "\n",
        "df = part1.merge(\n",
        "    public_list[['prev_COM_ADM','after_COM_ADM']],\n",
        "    left_on=\"COM_ADM\",\n",
        "    right_on=\"prev_COM_ADM\",\n",
        "    how=\"left\"\n",
        ")"
      ],
      "metadata": {
        "id": "AafS9KEl3Blt"
      },
      "execution_count": null,
      "outputs": []
    },
    {
      "cell_type": "code",
      "source": [
        "df['BS_YR_MON'] = pd.to_datetime(df['BS_YR_MON'].str.strip(), format='%Y%m')\n",
        "df = df.sort_values([\"KEY\",\"BS_YR_MON\"])"
      ],
      "metadata": {
        "id": "sIwCHkZh3V8v"
      },
      "execution_count": null,
      "outputs": []
    },
    {
      "cell_type": "code",
      "source": [
        "next_com   = df.groupby('KEY', sort=False)['COM_ADM'].shift(-1)\n",
        "next_month = df.groupby('KEY', sort=False)['BS_YR_MON'].shift(-1)"
      ],
      "metadata": {
        "id": "1lXGaeT23V_L"
      },
      "execution_count": null,
      "outputs": []
    },
    {
      "cell_type": "code",
      "source": [
        "moved_mask = (\n",
        "    df['prev_COM_ADM'].notna() &\n",
        "    df['COM_ADM'].eq(df['prev_COM_ADM']) &\n",
        "    next_com.eq(df['after_COM_ADM'])\n",
        ")\n",
        "\n",
        "moved_workers_1 = (\n",
        "    df.loc[moved_mask, ['KEY', 'BS_YR_MON', 'prev_COM_ADM', 'after_COM_ADM']]\n",
        "      .assign(move_month = next_month.loc[moved_mask].values)\n",
        "      .reset_index(drop=True)\n",
        ")\n",
        "\n",
        "\n",
        "moved_workers_1.to_parquet(os.path.join(path1,'moved_workers_1.parquet'))"
      ],
      "metadata": {
        "id": "d_cpmLOd3WBL"
      },
      "execution_count": null,
      "outputs": []
    },
    {
      "cell_type": "code",
      "source": [],
      "metadata": {
        "id": "MqwRm_zL3WDm"
      },
      "execution_count": null,
      "outputs": []
    },
    {
      "cell_type": "code",
      "source": [],
      "metadata": {
        "id": "_9ckIh6C3WHq"
      },
      "execution_count": null,
      "outputs": []
    },
    {
      "cell_type": "markdown",
      "source": [
        "2nd quarter"
      ],
      "metadata": {
        "id": "cK5f8P9p3cvD"
      }
    },
    {
      "cell_type": "code",
      "source": [
        "df = load_quarter(1)"
      ],
      "metadata": {
        "id": "FFphdldB3db7"
      },
      "execution_count": null,
      "outputs": []
    },
    {
      "cell_type": "code",
      "source": [
        "df = df.merge(\n",
        "    public_list[['prev_COM_ADM','after_COM_ADM']],\n",
        "    left_on=\"COM_ADM\",\n",
        "    right_on=\"prev_COM_ADM\",\n",
        "    how=\"left\"\n",
        ")"
      ],
      "metadata": {
        "id": "FoYqPeAq3g93"
      },
      "execution_count": null,
      "outputs": []
    },
    {
      "cell_type": "code",
      "source": [
        "df['BS_YR_MON'] = pd.to_datetime(df['BS_YR_MON'].str.strip(), format='%Y%m')\n",
        "df = df.sort_values([\"KEY\",\"BS_YR_MON\"])"
      ],
      "metadata": {
        "id": "60JO9Vwe3hA2"
      },
      "execution_count": null,
      "outputs": []
    },
    {
      "cell_type": "code",
      "source": [
        "next_com   = df.groupby('KEY', sort=False)['COM_ADM'].shift(-1)\n",
        "next_month = df.groupby('KEY', sort=False)['BS_YR_MON'].shift(-1)\n",
        "\n",
        "moved_mask = (\n",
        "    df['prev_COM_ADM'].notna() &\n",
        "    df['COM_ADM'].eq(df['prev_COM_ADM']) &\n",
        "    next_com.eq(df['after_COM_ADM'])\n",
        ")\n",
        "\n",
        "moved_workers_2 = (\n",
        "    df.loc[moved_mask, ['KEY', 'BS_YR_MON', 'prev_COM_ADM', 'after_COM_ADM']]\n",
        "      .assign(move_month = next_month.loc[moved_mask].values)\n",
        "      .reset_index(drop=True)\n",
        ")\n",
        "\n",
        "\n",
        "moved_workers_2.to_parquet(os.path.join(path1,'moved_workers_2.parquet'))"
      ],
      "metadata": {
        "id": "MoijzinO3hC_"
      },
      "execution_count": null,
      "outputs": []
    },
    {
      "cell_type": "code",
      "source": [],
      "metadata": {
        "id": "p9L34_cH3hFX"
      },
      "execution_count": null,
      "outputs": []
    },
    {
      "cell_type": "code",
      "source": [],
      "metadata": {
        "id": "W-ZUSHHW3hHk"
      },
      "execution_count": null,
      "outputs": []
    },
    {
      "cell_type": "code",
      "source": [],
      "metadata": {
        "id": "ONDkBNiE3hJ1"
      },
      "execution_count": null,
      "outputs": []
    },
    {
      "cell_type": "markdown",
      "source": [
        "3rd quarter"
      ],
      "metadata": {
        "id": "OerNx_713mTC"
      }
    },
    {
      "cell_type": "code",
      "source": [
        "df = load_quarter(2)"
      ],
      "metadata": {
        "id": "4uCGb6Hq3ngZ"
      },
      "execution_count": null,
      "outputs": []
    },
    {
      "cell_type": "code",
      "source": [
        "df = df.merge(\n",
        "    public_list[['prev_COM_ADM','after_COM_ADM']],\n",
        "    left_on=\"COM_ADM\",\n",
        "    right_on=\"prev_COM_ADM\",\n",
        "    how=\"left\"\n",
        ")"
      ],
      "metadata": {
        "id": "c7HcxM5s5tJq"
      },
      "execution_count": null,
      "outputs": []
    },
    {
      "cell_type": "code",
      "source": [
        "df['BS_YR_MON'] = pd.to_datetime(df['BS_YR_MON'].str.strip(), format='%Y%m')\n",
        "df = df.sort_values([\"KEY\",\"BS_YR_MON\"])"
      ],
      "metadata": {
        "id": "oRx4JTBK5tL9"
      },
      "execution_count": null,
      "outputs": []
    },
    {
      "cell_type": "code",
      "source": [
        "next_com   = df.groupby('KEY', sort=False)['COM_ADM'].shift(-1)\n",
        "next_month = df.groupby('KEY', sort=False)['BS_YR_MON'].shift(-1)\n",
        "\n",
        "moved_mask = (\n",
        "    df['prev_COM_ADM'].notna() &\n",
        "    df['COM_ADM'].eq(df['prev_COM_ADM']) &\n",
        "    next_com.eq(df['after_COM_ADM'])\n",
        ")\n",
        "\n",
        "moved_workers_3 = (\n",
        "    df.loc[moved_mask, ['KEY', 'BS_YR_MON', 'prev_COM_ADM', 'after_COM_ADM']]\n",
        "      .assign(move_month = next_month.loc[moved_mask].values)\n",
        "      .reset_index(drop=True)\n",
        ")\n",
        "\n",
        "\n",
        "moved_workers_3.to_parquet(os.path.join(path1,'moved_workers_3.parquet'))"
      ],
      "metadata": {
        "id": "gpgg5GjZ5tOT"
      },
      "execution_count": null,
      "outputs": []
    },
    {
      "cell_type": "code",
      "source": [],
      "metadata": {
        "id": "1331Wkay5tST"
      },
      "execution_count": null,
      "outputs": []
    },
    {
      "cell_type": "markdown",
      "source": [
        "4th quarter"
      ],
      "metadata": {
        "id": "SXdJuQdX50eB"
      }
    },
    {
      "cell_type": "code",
      "source": [
        "df = load_quarter(3)"
      ],
      "metadata": {
        "id": "RhiPafoo51ka"
      },
      "execution_count": null,
      "outputs": []
    },
    {
      "cell_type": "code",
      "source": [
        "df = df.merge(\n",
        "    public_list[['prev_COM_ADM','after_COM_ADM']],\n",
        "    left_on=\"COM_ADM\",\n",
        "    right_on=\"prev_COM_ADM\",\n",
        "    how=\"left\"\n",
        ")"
      ],
      "metadata": {
        "id": "_E2_n1qk525S"
      },
      "execution_count": null,
      "outputs": []
    },
    {
      "cell_type": "code",
      "source": [
        "df['BS_YR_MON'] = pd.to_datetime(df['BS_YR_MON'].str.strip(), format='%Y%m')\n",
        "df = df.sort_values([\"KEY\",\"BS_YR_MON\"])"
      ],
      "metadata": {
        "id": "r7TOnMrq527n"
      },
      "execution_count": null,
      "outputs": []
    },
    {
      "cell_type": "code",
      "source": [
        "next_com   = df.groupby('KEY', sort=False)['COM_ADM'].shift(-1)\n",
        "next_month = df.groupby('KEY', sort=False)['BS_YR_MON'].shift(-1)\n",
        "\n",
        "moved_mask = (\n",
        "    df['prev_COM_ADM'].notna() &\n",
        "    df['COM_ADM'].eq(df['prev_COM_ADM']) &\n",
        "    next_com.eq(df['after_COM_ADM'])\n",
        ")\n",
        "\n",
        "moved_workers_4 = (\n",
        "    df.loc[moved_mask, ['KEY', 'BS_YR_MON', 'prev_COM_ADM', 'after_COM_ADM']]\n",
        "      .assign(move_month = next_month.loc[moved_mask].values)\n",
        "      .reset_index(drop=True)\n",
        ")\n",
        "\n",
        "\n",
        "moved_workers_4.to_parquet(os.path.join(path1,'moved_workers_4.parquet'))"
      ],
      "metadata": {
        "id": "_CeYQHL75298"
      },
      "execution_count": null,
      "outputs": []
    },
    {
      "cell_type": "code",
      "source": [],
      "metadata": {
        "id": "r1n3N1hO53Aj"
      },
      "execution_count": null,
      "outputs": []
    },
    {
      "cell_type": "code",
      "source": [],
      "metadata": {
        "id": "l9HcTjJr53DH"
      },
      "execution_count": null,
      "outputs": []
    },
    {
      "cell_type": "markdown",
      "source": [
        "Appending data"
      ],
      "metadata": {
        "id": "u0XBbbpYWRxc"
      }
    },
    {
      "cell_type": "code",
      "source": [
        "moved_workers_1 = pd.read_parquet(os.path.join(path1,'moved_workers_1.parquet'))\n",
        "moved_workers_2 = pd.read_parquet(os.path.join(path1,'moved_workers_2.parquet'))\n",
        "moved_workers_3 = pd.read_parquet(os.path.join(path1,'moved_workers_3.parquet'))\n",
        "moved_workers_4 = pd.read_parquet(os.path.join(path1,'moved_workers_4.parquet'))"
      ],
      "metadata": {
        "id": "ItLSCACxWSZ_"
      },
      "execution_count": null,
      "outputs": []
    },
    {
      "cell_type": "code",
      "source": [
        "moved_workers = pd.concat(\n",
        "    [moved_workers_1, moved_workers_2, moved_workers_3, moved_workers_4],\n",
        "    ignore_index=True\n",
        ")\n",
        "\n",
        "moved_workers = moved_workers.merge(public_list, on=['prev_COM_ADM','after_COM_ADM'], how='left')\n",
        "moved_workers['actual_move_month'] = pd.to_datetime(moved_workers['actual_move_month'], format='%Y/%m')"
      ],
      "metadata": {
        "id": "IC7EvOadWT4x"
      },
      "execution_count": null,
      "outputs": []
    },
    {
      "cell_type": "code",
      "source": [
        "print(moved_workers.shape)\n",
        "moved_workers = moved_workers[moved_workers['move_month']>= moved_workers['actual_move_month']]\n",
        "print(moved_workers.shape)\n",
        "\n",
        "\n",
        "# (2269, 8)\n",
        "  (2267, 8)"
      ],
      "metadata": {
        "id": "uKD2upYGWT7E"
      },
      "execution_count": null,
      "outputs": []
    },
    {
      "cell_type": "code",
      "source": [
        "moved_workers.groupby('Inst Name').agg({'KEY':'count', 'N of employee':'mean'})\n",
        "\n",
        "\n",
        "\n",
        "#                 KEY\t  N of employee\n",
        "# Inst Name\n",
        "# 건강보험심사평가원\t  145\t      2439.0\n",
        "# 국민건강보험공단\t    794\t      1301.0\n",
        "# 국민연금공단\t       11\t        1218.0\n",
        "# 농림축산검역본부\t    357\t        630.0\n",
        "# 우정정보관리원\t      2\t        816.0\n",
        "# 한국교육개발원\t      85\t        440.0\n",
        "# 한국교육과정평가원\t  136\t        401.0\n",
        "# 한국수력원자력\t      54\t      1100.0\n",
        "# 한국식품연구원\t      1\t          505.0\n",
        "# 한국전력기술\t      681\t          2879.0\n",
        "# 한국해양과학기술원\t  1\t            616.0\n"
      ],
      "metadata": {
        "id": "2I_gujK-WT9u"
      },
      "execution_count": null,
      "outputs": []
    },
    {
      "cell_type": "code",
      "source": [
        "moved_workers['diff_from_move'] = ((moved_workers['move_month'].dt.year - moved_workers['actual_move_month'].dt.year) * 12 +\n",
        "                                    (moved_workers['move_month'].dt.month - moved_workers['actual_move_month'].dt.month))\n",
        "\n",
        "print(moved_workers['diff_from_move'].describe())\n",
        "\n",
        "\n",
        "# count    2267.000000\n",
        "# mean       30.648434\n",
        "# std        26.168734\n",
        "# min         3.000000\n",
        "# 25%        12.000000\n",
        "# 50%        19.000000\n",
        "# 75%        46.000000\n",
        "# max       106.000000"
      ],
      "metadata": {
        "id": "HHWnBNQMWdOu"
      },
      "execution_count": null,
      "outputs": []
    },
    {
      "cell_type": "code",
      "source": [
        "(moved_workers['diff_from_move'] > 60).sum()\n",
        "\n",
        "# np.int64(383)"
      ],
      "metadata": {
        "id": "InzcJZLNWj06"
      },
      "execution_count": null,
      "outputs": []
    }
  ]
}